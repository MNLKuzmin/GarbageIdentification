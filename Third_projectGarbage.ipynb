{
 "cells": [
  {
   "cell_type": "markdown",
   "id": "9a1dd8dd",
   "metadata": {},
   "source": [
    "**Thir Project: Garbage Classification**"
   ]
  },
  {
   "cell_type": "code",
   "execution_count": null,
   "id": "4ad5e8a0",
   "metadata": {},
   "outputs": [],
   "source": []
  }
 ],
 "metadata": {
  "kernelspec": {
   "display_name": "Python [conda env:learn-env] *",
   "language": "python",
   "name": "conda-env-learn-env-py"
  },
  "language_info": {
   "codemirror_mode": {
    "name": "ipython",
    "version": 3
   },
   "file_extension": ".py",
   "mimetype": "text/x-python",
   "name": "python",
   "nbconvert_exporter": "python",
   "pygments_lexer": "ipython3",
   "version": "3.6.6"
  }
 },
 "nbformat": 4,
 "nbformat_minor": 5
}
