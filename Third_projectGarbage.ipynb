{
 "cells": [
  {
   "cell_type": "markdown",
   "id": "00911c94",
   "metadata": {},
   "source": [
    "**Thir Project: Garbage Classification**"
   ]
  },
  {
   "cell_type": "markdown",
   "id": "4a676131",
   "metadata": {},
   "source": [
    "There were some doubles in the directory of the images. Inside the 'test_set' folder there are subfolders categorized by material, with the corresponding pictures inside (glass cardboard etc) but those same pictures are also in the 'test_set' folder. so as the first thing we removed the extra images, loose in the folder, to keep only the images inside the subfolders."
   ]
  }
 ],
 "metadata": {
  "kernelspec": {
   "display_name": "Python [conda env:learn-env] *",
   "language": "python",
   "name": "conda-env-learn-env-py"
  },
  "language_info": {
   "codemirror_mode": {
    "name": "ipython",
    "version": 3
   },
   "file_extension": ".py",
   "mimetype": "text/x-python",
   "name": "python",
   "nbconvert_exporter": "python",
   "pygments_lexer": "ipython3",
   "version": "3.6.6"
  }
 },
 "nbformat": 4,
 "nbformat_minor": 5
}
